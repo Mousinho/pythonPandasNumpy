{
 "cells": [
  {
   "cell_type": "code",
   "execution_count": 1,
   "id": "bdf26be7-0ec6-4e22-bd07-9081065b1387",
   "metadata": {},
   "outputs": [],
   "source": [
    "import numpy as np"
   ]
  },
  {
   "cell_type": "code",
   "execution_count": 2,
   "id": "1b014683-bd01-49bf-871d-111a6002af3e",
   "metadata": {},
   "outputs": [
    {
     "name": "stdout",
     "output_type": "stream",
     "text": [
      "[12 34 26 18 10]\n",
      "<class 'numpy.ndarray'>\n"
     ]
    }
   ],
   "source": [
    "#Criar matriz unidimensional\n",
    "mt = np.array([12,34,26,18,10])\n",
    "print(mt)\n",
    "print(type(mt))"
   ]
  },
  {
   "cell_type": "code",
   "execution_count": 6,
   "id": "f2f86f0e-ee16-48f4-bf35-321ec8d6c2f7",
   "metadata": {},
   "outputs": [
    {
     "name": "stdout",
     "output_type": "stream",
     "text": [
      "[1. 2. 3.]\n",
      "<class 'numpy.ndarray'>\n",
      "[4 5 6]\n",
      "<class 'numpy.ndarray'>\n"
     ]
    }
   ],
   "source": [
    "#Criar array de tipo especifico\n",
    "#Cria array como float de 64 bits\n",
    "mtfloat = np.array([1,2,3], dtype = np.float64)\n",
    "print(mtfloat)\n",
    "print(type(mtfloat))\n",
    "mtint = np.array([4,5,6], dtype = np.int32)\n",
    "print(mtint)\n",
    "print(type(mtint))"
   ]
  },
  {
   "cell_type": "code",
   "execution_count": 8,
   "id": "90018eaa-72b3-4823-8b18-bf98dfc081c3",
   "metadata": {},
   "outputs": [
    {
     "name": "stdout",
     "output_type": "stream",
     "text": [
      "[ 1.3   3.5  -8.8   9.46  3.99]\n",
      "[ 1  3 -8  9  3]\n"
     ]
    }
   ],
   "source": [
    "#Mudar o tipo de array\n",
    "#Podemos transformar tipos de dados de array\n",
    "mtnew = np.array([1.3,3.5,-8.8,9.46,3.99])\n",
    "print(mtnew)\n",
    "mtnewint = mtnew.astype(np.int32)\n",
    "print(mtnewint)"
   ]
  },
  {
   "cell_type": "code",
   "execution_count": 9,
   "id": "9d2e8ad9-5105-4ec9-b54f-3a17baa7ae17",
   "metadata": {},
   "outputs": [
    {
     "name": "stdout",
     "output_type": "stream",
     "text": [
      "[1 2 3 4 5]\n",
      "[1. 2. 3. 4. 5.]\n"
     ]
    }
   ],
   "source": [
    "#Podemos fazer o inveso também\n",
    "mt5 = np.array([1,2,3,4,5])\n",
    "print(mt5)\n",
    "mt6 = mt5.astype(float)\n",
    "print(mt6)"
   ]
  },
  {
   "cell_type": "code",
   "execution_count": 10,
   "id": "4ce4159b-1eea-4bca-b93d-82b1bb8035a4",
   "metadata": {},
   "outputs": [
    {
     "name": "stdout",
     "output_type": "stream",
     "text": [
      "[[ 7  2 23]\n",
      " [12 27  4]\n",
      " [ 5 34 26]]\n"
     ]
    }
   ],
   "source": [
    "#Mais de uma dimensão\n",
    "#Criar matris bidimensional\n",
    "mt7 = np.array([[7,2,23],[12,27,4],[5,34,26]])\n",
    "print(mt7)"
   ]
  },
  {
   "cell_type": "code",
   "execution_count": 14,
   "id": "a8cdb152-36b5-4383-b80f-882d207de8f8",
   "metadata": {},
   "outputs": [
    {
     "name": "stdout",
     "output_type": "stream",
     "text": [
      "[[         0 1072693248]\n",
      " [         0 1073741824]\n",
      " [         0 1074266112]]\n",
      "------\n",
      "[[0. 0. 0.]\n",
      " [0. 0. 0.]\n",
      " [0. 0. 0.]\n",
      " [0. 0. 0.]]\n",
      "------\n",
      "[[1. 1. 1. 1. 1. 1. 1.]\n",
      " [1. 1. 1. 1. 1. 1. 1.]\n",
      " [1. 1. 1. 1. 1. 1. 1.]\n",
      " [1. 1. 1. 1. 1. 1. 1.]\n",
      " [1. 1. 1. 1. 1. 1. 1.]]\n",
      "------\n",
      "[[1. 0. 0. 0. 0.]\n",
      " [0. 1. 0. 0. 0.]\n",
      " [0. 0. 1. 0. 0.]\n",
      " [0. 0. 0. 1. 0.]\n",
      " [0. 0. 0. 0. 1.]]\n"
     ]
    }
   ],
   "source": [
    "#Criar arrays vazios tipificados\n",
    "#Empty significa que não são inicializados, não que são vazios\n",
    "vazio = np.empty([3,2], dtype = int)\n",
    "print(vazio)\n",
    "print(\"------\")\n",
    "#Cria uma matrix 4x3 com valores zero\n",
    "zero = np.zeros([4,3])\n",
    "print(zero)\n",
    "print(\"------\")\n",
    "#Com valores igual a um\n",
    "um = np.ones([5,7])\n",
    "print(um)\n",
    "print(\"------\")\n",
    "#Criar matriz quadrada com diagonal principal com valores 1 e outros valores 0\n",
    "diagonal = np.eye(5)\n",
    "print(diagonal)"
   ]
  },
  {
   "cell_type": "code",
   "execution_count": 31,
   "id": "8f8f9d3c-adbb-470a-815d-5625bb686154",
   "metadata": {},
   "outputs": [
    {
     "name": "stdout",
     "output_type": "stream",
     "text": [
      "[0.50877128]\n",
      "------\n",
      "[ 0.51430875  0.61503472  0.00768874  0.0681585  -0.50993898]\n",
      "------\n",
      "[[3.46906677 9.71269975 1.31953487 7.13082205]\n",
      " [8.61719637 1.23422021 7.46194682 0.95939783]\n",
      " [3.02490376 6.04605882 7.08133581 4.81568442]]\n"
     ]
    }
   ],
   "source": [
    "#Valores aleatórios entre zero e um\n",
    "ale = np.random.random((1))\n",
    "print(ale)\n",
    "print(\"------\")\n",
    "#Valores aleatórios distribuição normal contendo negativos\n",
    "ale2 = np.random.randn((5))\n",
    "print(ale2)\n",
    "print(\"------\")\n",
    "#Valores aleatórios 3x4\n",
    "ale3 = (10*np.random.random((3,4)))\n",
    "print(ale3)"
   ]
  },
  {
   "cell_type": "code",
   "execution_count": 33,
   "id": "12c1ae6f-30f5-4266-a942-edfb8d415909",
   "metadata": {},
   "outputs": [
    {
     "name": "stdout",
     "output_type": "stream",
     "text": [
      "[0.51182162 0.9504637  0.14415961]\n",
      "[[8 9 2 3]\n",
      " [8 4 2 8]\n",
      " [2 4 6 5]]\n"
     ]
    }
   ],
   "source": [
    "#Outra forma de gerar números aleatórios\n",
    "#Uso de semente\n",
    "gnr = np.random.default_rng(1)\n",
    "ale5 = gnr.random(3)\n",
    "print(ale5)\n",
    "#Gerar inteiros\n",
    "ale6 = gnr.integers(10, size=(3,4))\n",
    "print(ale6)"
   ]
  },
  {
   "cell_type": "code",
   "execution_count": 34,
   "id": "da24a53e-f927-4a11-9f5e-7c75883d9bce",
   "metadata": {},
   "outputs": [
    {
     "name": "stdout",
     "output_type": "stream",
     "text": [
      "[11 12 13 14 15 18 19 20]\n"
     ]
    }
   ],
   "source": [
    "#Unique remove repetições\n",
    "j = np.array([11,12,13,14,15,12,11,18,19,20])\n",
    "j = np.unique(j)\n",
    "print(j)"
   ]
  },
  {
   "cell_type": "code",
   "execution_count": 37,
   "id": "baf836cb-f51c-471c-be1d-de8c28703a6b",
   "metadata": {},
   "outputs": [
    {
     "name": "stdout",
     "output_type": "stream",
     "text": [
      "[[17 22 43]\n",
      " [27 25 13]\n",
      " [15 24 32]]\n",
      "22\n",
      "(3, 3)\n"
     ]
    }
   ],
   "source": [
    "#Funcões especificas\n",
    "#Cria matriz bidimensional k\n",
    "k = np.array([[17,22,43],[27,25,13],[15,24,32]])\n",
    "#Mostra matriz k\n",
    "print(k)\n",
    "#Mostra elemento especifico da matriz k\n",
    "print(k[0][1])\n",
    "#Mostra o tamanho da dimensão da matriz k\n",
    "print(k.shape)"
   ]
  },
  {
   "cell_type": "code",
   "execution_count": 38,
   "id": "591cc0fc-4a8e-4add-b500-59ce212c1d36",
   "metadata": {},
   "outputs": [
    {
     "name": "stdout",
     "output_type": "stream",
     "text": [
      "43\n",
      "13\n",
      "218\n",
      "24.22222222222222\n",
      "8.75312995165828\n"
     ]
    }
   ],
   "source": [
    "#Funções matemáticas\n",
    "#Mostra o maior valor da matriz k\n",
    "print(k.max())\n",
    "#Mostra o menor valor da matriz k\n",
    "print(k.min())\n",
    "#Mostra a soma dos valores da matriz k\n",
    "print(k.sum())\n",
    "#Mostra o valor da média dos valores da matriz k\n",
    "print(k.mean())\n",
    "#Mostra o valor do desvio padrão (Standard Deviation) dos valores da matriz k\n",
    "print(k.std())"
   ]
  },
  {
   "cell_type": "code",
   "execution_count": 39,
   "id": "f15c15a0-22d9-44b0-9047-3733ccfc3bf8",
   "metadata": {},
   "outputs": [
    {
     "name": "stdout",
     "output_type": "stream",
     "text": [
      "[1. 2. 3. 4. 5. 6.]\n",
      "[2.71828183e+00 5.45981500e+01 8.10308393e+03 8.88611052e+06\n",
      " 7.20048993e+10 4.31123155e+15]\n"
     ]
    }
   ],
   "source": [
    "#Funcões universais, aplicadas a todos os elementos\n",
    "#Mostra o valor da raiz quadrada de todos elementos\n",
    "k1 = np.array([1,4,9,16,25,36])\n",
    "print(np.sqrt(k1))\n",
    "#Mostra o valor exponencial de todos elementos\n",
    "print(np.exp(k1))"
   ]
  },
  {
   "cell_type": "code",
   "execution_count": 41,
   "id": "543540a7-dd02-475a-bf84-a1cd6d874d3e",
   "metadata": {},
   "outputs": [
    {
     "name": "stdout",
     "output_type": "stream",
     "text": [
      "2\n",
      "------\n",
      "[1 2]\n",
      "------\n",
      "[2 3 4 5 6]\n",
      "------\n",
      "[4 5 6]\n"
     ]
    }
   ],
   "source": [
    "#Extração de elementos\n",
    "m = np.array([1,2,3,4,5,6])\n",
    "#Mostra o elemento na posição 2\n",
    "print(m[1])\n",
    "print(\"------\")\n",
    "#Mostra o array criado a partir da posição 0, dois elementos\n",
    "print(m[0:2])\n",
    "print(\"------\")\n",
    "#Mostra o array criadoa partir da 2a posição até todo o restante do array\n",
    "print(m[1:])\n",
    "print(\"------\")\n",
    "#Mostra o array a partir da antepenultima posição até o final\n",
    "print(m[-3:])"
   ]
  },
  {
   "cell_type": "code",
   "execution_count": 45,
   "id": "9397dca9-e1de-496f-b1c5-0539a12f6652",
   "metadata": {},
   "outputs": [
    {
     "name": "stdout",
     "output_type": "stream",
     "text": [
      "[[4 5]\n",
      " [6 1]\n",
      " [7 4]]\n",
      "------\n",
      "[4 5]\n",
      "------\n",
      "[6 1]\n",
      "------\n",
      "[7 4]\n",
      "------\n",
      "[4 6 7]\n",
      "------\n",
      "[5 1 4]\n",
      "------\n"
     ]
    }
   ],
   "source": [
    "#Extração de linhas e colunas\n",
    "l = np.array([[4,5],[6,1],[7,4]])\n",
    "print(l)\n",
    "print(\"------\")\n",
    "#Primeira linha, todas as colunas\n",
    "l_linha_1 = l[0, :]\n",
    "print(l_linha_1)\n",
    "print(\"------\")\n",
    "#Segunda linha\n",
    "l_linha_2 = l[1,:]\n",
    "print(l_linha_2)\n",
    "print(\"------\")\n",
    "#Terceira linha\n",
    "l_linha_3 = l[2,:]\n",
    "print(l_linha_3)\n",
    "print(\"------\")\n",
    "#Todas as linhas, primeira coluna\n",
    "l_coluna_1 = l[:,0]\n",
    "print(l_coluna_1)\n",
    "print(\"------\")\n",
    "#Todas as linhas, segunda coluna\n",
    "l_coluna_2 = l[:,1]\n",
    "print(l_coluna_2)\n",
    "print(\"------\")"
   ]
  },
  {
   "cell_type": "code",
   "execution_count": 47,
   "id": "e5e3a2e5-da86-4563-8e86-853a040e031e",
   "metadata": {},
   "outputs": [
    {
     "name": "stdout",
     "output_type": "stream",
     "text": [
      "[[2 3]\n",
      " [4 5]]\n",
      "------\n",
      "[[1 2]\n",
      " [3 4]]\n",
      "------\n",
      "[[3 3]\n",
      " [5 5]\n",
      " [7 7]]\n"
     ]
    }
   ],
   "source": [
    "#Adição e multiplicação de matrizes\n",
    "n = np.array([[1,2],[3,4]])\n",
    "o = np.array([[1,1],[1,1]])\n",
    "res1 = n+o\n",
    "print(res1)\n",
    "print(\"------\")\n",
    "res2 = n*o\n",
    "print(res2)\n",
    "print(\"------\")\n",
    "p = np.array([[1,2],[3,4],[5,6]])\n",
    "q = np.array([[2,1]])\n",
    "print(p+q)"
   ]
  },
  {
   "cell_type": "code",
   "execution_count": 48,
   "id": "25f3dea9-52c3-4928-a610-bd9837f5b531",
   "metadata": {},
   "outputs": [
    {
     "name": "stdout",
     "output_type": "stream",
     "text": [
      "[[ 0  1  2  3  4]\n",
      " [ 5  6  7  8  9]\n",
      " [10 11 12 13 14]]\n",
      "------\n",
      "[[ 0  5 10]\n",
      " [ 1  6 11]\n",
      " [ 2  7 12]\n",
      " [ 3  8 13]\n",
      " [ 4  9 14]]\n"
     ]
    }
   ],
   "source": [
    "#Transposição, rearranjo um conjunto de 15 elementos de 0 a 14 em 3 linhas e 5 colunas\n",
    "f = np.arange(15).reshape((3,5))\n",
    "#Mostra a matriz transposta entre linha e coluna\n",
    "print(f)\n",
    "print(\"------\")\n",
    "s = f.T\n",
    "print(s)"
   ]
  },
  {
   "cell_type": "code",
   "execution_count": 50,
   "id": "f56734c5-ca47-4937-a298-f97678836a7f",
   "metadata": {},
   "outputs": [
    {
     "name": "stdout",
     "output_type": "stream",
     "text": [
      "[[ 0  1  2  3  4]\n",
      " [ 5  6  7  8  9]\n",
      " [10 11 12 13 14]]\n",
      "------\n",
      "[[ 0  5 10]\n",
      " [ 1  6 11]\n",
      " [ 2  7 12]\n",
      " [ 3  8 13]\n",
      " [ 4  9 14]]\n"
     ]
    }
   ],
   "source": [
    "#Outra forma de fazer, mesmo resultado\n",
    "r = np.arange(15).reshape((3,5))\n",
    "print(r)\n",
    "print(\"------\")\n",
    "#Rearanja um conjunto de 15 elementos\n",
    "#Mostra a matriz transposta entre linha e coluna\n",
    "s = r.transpose((1,0))\n",
    "print(s)"
   ]
  },
  {
   "cell_type": "code",
   "execution_count": 52,
   "id": "d1490e64-51a0-4dfa-b5e8-82f57d28e396",
   "metadata": {},
   "outputs": [
    {
     "name": "stdout",
     "output_type": "stream",
     "text": [
      "[[ 1.52162866  0.01966187 -1.11030921 -0.00903099]\n",
      " [-1.15512073 -0.5204406  -0.36712587  1.06548005]\n",
      " [-0.41034026 -0.4972618   0.61907143 -0.79096294]\n",
      " [ 0.84491691 -0.39173945  2.10365249  0.49751156]]\n",
      "[[ True  True False False]\n",
      " [False False False  True]\n",
      " [False False  True False]\n",
      " [ True False  True  True]]\n",
      "[[ 1  1 -1 -1]\n",
      " [-1 -1 -1  1]\n",
      " [-1 -1  1 -1]\n",
      " [ 1 -1  1  1]]\n"
     ]
    }
   ],
   "source": [
    "#Expressões lógicas\n",
    "#Usando where\n",
    "#Criando matriz com valores positivos e negativos\n",
    "v = np.random.randn(4,4)\n",
    "print(v)\n",
    "#Criando matriz com valores boleanos usando array v\n",
    "x = (v>0)\n",
    "print(x)\n",
    "#Criando matriz com valores -1 e 1 baseado nos valores do array x\n",
    "z = np.where(x>0,1,-1)\n",
    "print(z)"
   ]
  },
  {
   "cell_type": "code",
   "execution_count": null,
   "id": "f3830a3c-100f-4fc5-a6fc-72291eb1e45a",
   "metadata": {},
   "outputs": [],
   "source": []
  }
 ],
 "metadata": {
  "kernelspec": {
   "display_name": "Python 3 (ipykernel)",
   "language": "python",
   "name": "python3"
  },
  "language_info": {
   "codemirror_mode": {
    "name": "ipython",
    "version": 3
   },
   "file_extension": ".py",
   "mimetype": "text/x-python",
   "name": "python",
   "nbconvert_exporter": "python",
   "pygments_lexer": "ipython3",
   "version": "3.9.12"
  }
 },
 "nbformat": 4,
 "nbformat_minor": 5
}
